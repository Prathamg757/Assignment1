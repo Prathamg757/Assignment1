{
 "cells": [
  {
   "cell_type": "code",
   "execution_count": 3,
   "id": "eda64428-4944-4f88-b1e7-6209d588459a",
   "metadata": {},
   "outputs": [
    {
     "name": "stdin",
     "output_type": "stream",
     "text": [
      "Enter Your Marks:  96\n"
     ]
    },
    {
     "name": "stdout",
     "output_type": "stream",
     "text": [
      "Grade : A\n"
     ]
    }
   ],
   "source": [
    "#question1\n",
    "Marks = int(input(\"Enter Your Marks: \"))\n",
    "if Marks > 90 :\n",
    "    print(\"Grade : A\")\n",
    "elif Marks >80 and Marks<=90:\n",
    "    print(\"Grade : B\")\n",
    "elif Marks >=60 and Marks<=80:\n",
    "    print(\"Grade : C\")\n",
    "else:\n",
    "    print(\"Grade : D\")"
   ]
  },
  {
   "cell_type": "code",
   "execution_count": 6,
   "id": "db19c4e3-9334-42bd-9034-7c08e4d9f8a0",
   "metadata": {},
   "outputs": [
    {
     "name": "stdin",
     "output_type": "stream",
     "text": [
      "Enter the cost price of your bike:  50000\n"
     ]
    },
    {
     "name": "stdout",
     "output_type": "stream",
     "text": [
      "The amount of tax that you have to pay is 2500.0\n"
     ]
    }
   ],
   "source": [
    "#question2\n",
    "price = int(input(\"Enter the cost price of your bike: \"))\n",
    "tax = None\n",
    "if price<=50000:\n",
    "    tax=price*0.05\n",
    "elif price>50000 and price<=100000:\n",
    "    tax=price*0.10\n",
    "else:\n",
    "    tax=price*0.15\n",
    "print('The amount of tax that you have to pay is',tax)    "
   ]
  },
  {
   "cell_type": "code",
   "execution_count": 12,
   "id": "ce9ea2d9-c2bc-4424-88d5-6679f1138413",
   "metadata": {},
   "outputs": [
    {
     "name": "stdin",
     "output_type": "stream",
     "text": [
      "Enter the name of the city:  delhi\n"
     ]
    },
    {
     "name": "stdout",
     "output_type": "stream",
     "text": [
      "Red Fort\n"
     ]
    }
   ],
   "source": [
    "#question3\n",
    "city =str(input(\"Enter the name of the city: \"))\n",
    "if city=='Delhi'or city=='delhi':\n",
    "    print(\"Red Fort\")\n",
    "elif city=='Agra' or city=='agra':\n",
    "    print(\"Taj Mahal\")\n",
    "elif city=='Jaipur' or city=='jaipur':\n",
    "    print(\"Jal Mahal\")\n",
    "else:\n",
    "    pass"
   ]
  },
  {
   "cell_type": "code",
   "execution_count": 16,
   "id": "ac1fb06e-9f9a-4f2e-ba62-b0fa699f1bdd",
   "metadata": {},
   "outputs": [
    {
     "name": "stdin",
     "output_type": "stream",
     "text": [
      "Enter a number =  345\n"
     ]
    },
    {
     "name": "stdout",
     "output_type": "stream",
     "text": [
      "Number of Times= 4\n"
     ]
    }
   ],
   "source": [
    "#question4\n",
    "num = int(input(\"Enter a number = \"))\n",
    "count= 0\n",
    "while num>10:\n",
    "    num =num/3;\n",
    "    count +=1\n",
    "print('Number of Times=',count)"
   ]
  },
  {
   "cell_type": "code",
   "execution_count": 17,
   "id": "90283c48-fce3-48de-9ed6-d0e85361b706",
   "metadata": {},
   "outputs": [
    {
     "name": "stdout",
     "output_type": "stream",
     "text": [
      "Hello world\n",
      "Hello world\n",
      "Hello world\n",
      "Hello world\n"
     ]
    }
   ],
   "source": [
    "#question5\n",
    "#The while loop executes a set of statements as long as a condition is true.\n",
    "i = 1\n",
    "while i < 5:\n",
    "    print(\"Hello world\")\n",
    "    i = i + 1"
   ]
  },
  {
   "cell_type": "code",
   "execution_count": 9,
   "id": "ef9104c2-1b62-475c-b11c-5eb587cc39e4",
   "metadata": {},
   "outputs": [
    {
     "name": "stdout",
     "output_type": "stream",
     "text": [
      "1st\n",
      "\n"
     ]
    },
    {
     "name": "stdin",
     "output_type": "stream",
     "text": [
      "Enter number of rows :  5\n"
     ]
    },
    {
     "name": "stdout",
     "output_type": "stream",
     "text": [
      "* \n",
      "* * \n",
      "* * * \n",
      "* * * * \n",
      "* * * * * \n",
      "\n",
      "2nd\n",
      "\n",
      "* * * * * \n",
      "* * * * \n",
      "* * * \n",
      "* * \n",
      "* \n",
      "\n",
      "3rd\n",
      "\n",
      "        * \n",
      "      * * \n",
      "    * * * \n",
      "  * * * * \n",
      "* * * * * \n",
      "  * * * * \n",
      "    * * * \n",
      "      * * \n",
      "        * \n",
      "          \n"
     ]
    }
   ],
   "source": [
    "#question5\n",
    "print(\"1st\\n\")\n",
    "n = int(input('Enter number of rows : '))\n",
    " \n",
    "i = 1\n",
    "while i <= n :\n",
    "    j = 1\n",
    "    while j <= i:\n",
    "        print(\"*\", end = \" \")\n",
    "        j += 1\n",
    "    print()\n",
    "    i += 1\n",
    "    \n",
    "    \n",
    "print('\\n2nd\\n')\n",
    "#n = int(input('Enter number of rows : '))\n",
    " \n",
    "i = 1\n",
    "while i <= n :\n",
    "    j = n\n",
    "    while j >= i:\n",
    "        print(\"*\", end = \" \")\n",
    "        j -= 1\n",
    "    print()\n",
    "    i += 1\n",
    "\n",
    "print('\\n3rd\\n')\n",
    "\n",
    "i = 1\n",
    "while i <= n:\n",
    "    j = i\n",
    "    while j < n:\n",
    "        # display space\n",
    "        print(' ', end=' ')\n",
    "        j += 1\n",
    "    k = 1\n",
    "    while k <= i:\n",
    "        print('*', end=' ')\n",
    "        k += 1\n",
    "    print()\n",
    "    i += 1\n",
    "\n",
    "i = n\n",
    "while i >= 1:\n",
    "    j = i\n",
    "    while j <= n:\n",
    "        print(' ', end=' ')\n",
    "        j += 1\n",
    "    k = 1\n",
    "    while k < i:\n",
    "        print('*', end=' ')\n",
    "        k += 1\n",
    "    print('')\n",
    "    i -= 1\n"
   ]
  },
  {
   "cell_type": "code",
   "execution_count": 14,
   "id": "71f8ae7c-a141-4c8d-b63c-07f0705aeb49",
   "metadata": {},
   "outputs": [
    {
     "name": "stdout",
     "output_type": "stream",
     "text": [
      "10\n",
      "9\n",
      "8\n",
      "7\n",
      "6\n",
      "5\n",
      "4\n",
      "3\n",
      "2\n",
      "1\n"
     ]
    }
   ],
   "source": [
    "#question7&8\n",
    "num=10\n",
    "while num>0:\n",
    "    print(num)\n",
    "    num-=1"
   ]
  },
  {
   "cell_type": "code",
   "execution_count": null,
   "id": "96f0d282-029c-4537-9497-afee3cab28d1",
   "metadata": {},
   "outputs": [],
   "source": []
  }
 ],
 "metadata": {
  "kernelspec": {
   "display_name": "Python 3 (ipykernel)",
   "language": "python",
   "name": "python3"
  },
  "language_info": {
   "codemirror_mode": {
    "name": "ipython",
    "version": 3
   },
   "file_extension": ".py",
   "mimetype": "text/x-python",
   "name": "python",
   "nbconvert_exporter": "python",
   "pygments_lexer": "ipython3",
   "version": "3.10.8"
  }
 },
 "nbformat": 4,
 "nbformat_minor": 5
}
